{
 "cells": [
  {
   "cell_type": "code",
   "execution_count": 1,
   "metadata": {},
   "outputs": [],
   "source": [
    "import pandas as pd\n",
    "import numpy as np\n",
    "import warnings\n",
    "warnings.filterwarnings('ignore')"
   ]
  },
  {
   "cell_type": "code",
   "execution_count": 2,
   "metadata": {},
   "outputs": [],
   "source": [
    "Train = pd.read_csv(\"DataSets/Train.csv\")"
   ]
  },
  {
   "cell_type": "code",
   "execution_count": 3,
   "metadata": {},
   "outputs": [
    {
     "data": {
      "text/html": [
       "<div>\n",
       "<style scoped>\n",
       "    .dataframe tbody tr th:only-of-type {\n",
       "        vertical-align: middle;\n",
       "    }\n",
       "\n",
       "    .dataframe tbody tr th {\n",
       "        vertical-align: top;\n",
       "    }\n",
       "\n",
       "    .dataframe thead th {\n",
       "        text-align: right;\n",
       "    }\n",
       "</style>\n",
       "<table border=\"1\" class=\"dataframe\">\n",
       "  <thead>\n",
       "    <tr style=\"text-align: right;\">\n",
       "      <th></th>\n",
       "      <th>date_time</th>\n",
       "      <th>is_holiday</th>\n",
       "      <th>air_pollution_index</th>\n",
       "      <th>humidity</th>\n",
       "      <th>wind_speed</th>\n",
       "      <th>wind_direction</th>\n",
       "      <th>visibility_in_miles</th>\n",
       "      <th>dew_point</th>\n",
       "      <th>temperature</th>\n",
       "      <th>rain_p_h</th>\n",
       "      <th>snow_p_h</th>\n",
       "      <th>clouds_all</th>\n",
       "      <th>weather_type</th>\n",
       "      <th>weather_description</th>\n",
       "      <th>traffic_volume</th>\n",
       "    </tr>\n",
       "  </thead>\n",
       "  <tbody>\n",
       "    <tr>\n",
       "      <th>0</th>\n",
       "      <td>2012-10-02 09:00:00</td>\n",
       "      <td>None</td>\n",
       "      <td>121</td>\n",
       "      <td>89</td>\n",
       "      <td>2</td>\n",
       "      <td>329</td>\n",
       "      <td>1</td>\n",
       "      <td>1</td>\n",
       "      <td>288.28</td>\n",
       "      <td>0.0</td>\n",
       "      <td>0.0</td>\n",
       "      <td>40</td>\n",
       "      <td>Clouds</td>\n",
       "      <td>scattered clouds</td>\n",
       "      <td>5545</td>\n",
       "    </tr>\n",
       "    <tr>\n",
       "      <th>1</th>\n",
       "      <td>2012-10-02 10:00:00</td>\n",
       "      <td>None</td>\n",
       "      <td>178</td>\n",
       "      <td>67</td>\n",
       "      <td>3</td>\n",
       "      <td>330</td>\n",
       "      <td>1</td>\n",
       "      <td>1</td>\n",
       "      <td>289.36</td>\n",
       "      <td>0.0</td>\n",
       "      <td>0.0</td>\n",
       "      <td>75</td>\n",
       "      <td>Clouds</td>\n",
       "      <td>broken clouds</td>\n",
       "      <td>4516</td>\n",
       "    </tr>\n",
       "    <tr>\n",
       "      <th>2</th>\n",
       "      <td>2012-10-02 11:00:00</td>\n",
       "      <td>None</td>\n",
       "      <td>113</td>\n",
       "      <td>66</td>\n",
       "      <td>3</td>\n",
       "      <td>329</td>\n",
       "      <td>2</td>\n",
       "      <td>2</td>\n",
       "      <td>289.58</td>\n",
       "      <td>0.0</td>\n",
       "      <td>0.0</td>\n",
       "      <td>90</td>\n",
       "      <td>Clouds</td>\n",
       "      <td>overcast clouds</td>\n",
       "      <td>4767</td>\n",
       "    </tr>\n",
       "    <tr>\n",
       "      <th>3</th>\n",
       "      <td>2012-10-02 12:00:00</td>\n",
       "      <td>None</td>\n",
       "      <td>20</td>\n",
       "      <td>66</td>\n",
       "      <td>3</td>\n",
       "      <td>329</td>\n",
       "      <td>5</td>\n",
       "      <td>5</td>\n",
       "      <td>290.13</td>\n",
       "      <td>0.0</td>\n",
       "      <td>0.0</td>\n",
       "      <td>90</td>\n",
       "      <td>Clouds</td>\n",
       "      <td>overcast clouds</td>\n",
       "      <td>5026</td>\n",
       "    </tr>\n",
       "    <tr>\n",
       "      <th>4</th>\n",
       "      <td>2012-10-02 13:00:00</td>\n",
       "      <td>None</td>\n",
       "      <td>281</td>\n",
       "      <td>65</td>\n",
       "      <td>3</td>\n",
       "      <td>329</td>\n",
       "      <td>7</td>\n",
       "      <td>7</td>\n",
       "      <td>291.14</td>\n",
       "      <td>0.0</td>\n",
       "      <td>0.0</td>\n",
       "      <td>75</td>\n",
       "      <td>Clouds</td>\n",
       "      <td>broken clouds</td>\n",
       "      <td>4918</td>\n",
       "    </tr>\n",
       "  </tbody>\n",
       "</table>\n",
       "</div>"
      ],
      "text/plain": [
       "             date_time is_holiday  air_pollution_index  humidity  wind_speed  \\\n",
       "0  2012-10-02 09:00:00       None                  121        89           2   \n",
       "1  2012-10-02 10:00:00       None                  178        67           3   \n",
       "2  2012-10-02 11:00:00       None                  113        66           3   \n",
       "3  2012-10-02 12:00:00       None                   20        66           3   \n",
       "4  2012-10-02 13:00:00       None                  281        65           3   \n",
       "\n",
       "   wind_direction  visibility_in_miles  dew_point  temperature  rain_p_h  \\\n",
       "0             329                    1          1       288.28       0.0   \n",
       "1             330                    1          1       289.36       0.0   \n",
       "2             329                    2          2       289.58       0.0   \n",
       "3             329                    5          5       290.13       0.0   \n",
       "4             329                    7          7       291.14       0.0   \n",
       "\n",
       "   snow_p_h  clouds_all weather_type weather_description  traffic_volume  \n",
       "0       0.0          40       Clouds    scattered clouds            5545  \n",
       "1       0.0          75       Clouds       broken clouds            4516  \n",
       "2       0.0          90       Clouds     overcast clouds            4767  \n",
       "3       0.0          90       Clouds     overcast clouds            5026  \n",
       "4       0.0          75       Clouds       broken clouds            4918  "
      ]
     },
     "execution_count": 3,
     "metadata": {},
     "output_type": "execute_result"
    }
   ],
   "source": [
    "Train.head()"
   ]
  },
  {
   "cell_type": "code",
   "execution_count": 4,
   "metadata": {},
   "outputs": [],
   "source": [
    "Train['is_holiday'] = np.where(Train['is_holiday'] == \"None\", \"Working Day\", Train['is_holiday'])\n",
    "\n",
    "# dateTimeSplits = Train[\"date_time\"].str.split(\" \")\n",
    "# Train[\"Year\"] = pd.DataFrame([ item[0].split(\"-\")[0] for item in dateTimeSplits ])\n",
    "# Train[\"Month\"] = pd.DataFrame([ item[0].split(\"-\")[1] for item in dateTimeSplits ])\n",
    "# Train[\"Day\"] = pd.DataFrame([ item[0].split(\"-\")[2] for item in dateTimeSplits ])\n",
    "# Train[\"hour\"] = pd.DataFrame([ item[1].split(\":\")[0] for item in dateTimeSplits ])"
   ]
  },
  {
   "cell_type": "code",
   "execution_count": 5,
   "metadata": {},
   "outputs": [],
   "source": [
    "data = {'traffic_volume':Train['traffic_volume'], 'date_time':Train['date_time']}\n",
    "target = pd.DataFrame(data).set_index('date_time')\n",
    "Train = Train.set_index('date_time')"
   ]
  },
  {
   "cell_type": "code",
   "execution_count": null,
   "metadata": {},
   "outputs": [],
   "source": []
  },
  {
   "cell_type": "code",
   "execution_count": 6,
   "metadata": {},
   "outputs": [],
   "source": [
    "# target['traffic_volume'] = Train['traffic_volume']\n",
    "Train.drop(columns =[\"traffic_volume\"], inplace = True)"
   ]
  },
  {
   "cell_type": "code",
   "execution_count": 7,
   "metadata": {},
   "outputs": [
    {
     "data": {
      "text/html": [
       "<div>\n",
       "<style scoped>\n",
       "    .dataframe tbody tr th:only-of-type {\n",
       "        vertical-align: middle;\n",
       "    }\n",
       "\n",
       "    .dataframe tbody tr th {\n",
       "        vertical-align: top;\n",
       "    }\n",
       "\n",
       "    .dataframe thead th {\n",
       "        text-align: right;\n",
       "    }\n",
       "</style>\n",
       "<table border=\"1\" class=\"dataframe\">\n",
       "  <thead>\n",
       "    <tr style=\"text-align: right;\">\n",
       "      <th></th>\n",
       "      <th>is_holiday</th>\n",
       "      <th>air_pollution_index</th>\n",
       "      <th>humidity</th>\n",
       "      <th>wind_speed</th>\n",
       "      <th>wind_direction</th>\n",
       "      <th>visibility_in_miles</th>\n",
       "      <th>dew_point</th>\n",
       "      <th>temperature</th>\n",
       "      <th>rain_p_h</th>\n",
       "      <th>snow_p_h</th>\n",
       "      <th>clouds_all</th>\n",
       "      <th>weather_type</th>\n",
       "      <th>weather_description</th>\n",
       "    </tr>\n",
       "    <tr>\n",
       "      <th>date_time</th>\n",
       "      <th></th>\n",
       "      <th></th>\n",
       "      <th></th>\n",
       "      <th></th>\n",
       "      <th></th>\n",
       "      <th></th>\n",
       "      <th></th>\n",
       "      <th></th>\n",
       "      <th></th>\n",
       "      <th></th>\n",
       "      <th></th>\n",
       "      <th></th>\n",
       "      <th></th>\n",
       "    </tr>\n",
       "  </thead>\n",
       "  <tbody>\n",
       "    <tr>\n",
       "      <th>2012-10-02 09:00:00</th>\n",
       "      <td>Working Day</td>\n",
       "      <td>121</td>\n",
       "      <td>89</td>\n",
       "      <td>2</td>\n",
       "      <td>329</td>\n",
       "      <td>1</td>\n",
       "      <td>1</td>\n",
       "      <td>288.28</td>\n",
       "      <td>0.0</td>\n",
       "      <td>0.0</td>\n",
       "      <td>40</td>\n",
       "      <td>Clouds</td>\n",
       "      <td>scattered clouds</td>\n",
       "    </tr>\n",
       "    <tr>\n",
       "      <th>2012-10-02 10:00:00</th>\n",
       "      <td>Working Day</td>\n",
       "      <td>178</td>\n",
       "      <td>67</td>\n",
       "      <td>3</td>\n",
       "      <td>330</td>\n",
       "      <td>1</td>\n",
       "      <td>1</td>\n",
       "      <td>289.36</td>\n",
       "      <td>0.0</td>\n",
       "      <td>0.0</td>\n",
       "      <td>75</td>\n",
       "      <td>Clouds</td>\n",
       "      <td>broken clouds</td>\n",
       "    </tr>\n",
       "    <tr>\n",
       "      <th>2012-10-02 11:00:00</th>\n",
       "      <td>Working Day</td>\n",
       "      <td>113</td>\n",
       "      <td>66</td>\n",
       "      <td>3</td>\n",
       "      <td>329</td>\n",
       "      <td>2</td>\n",
       "      <td>2</td>\n",
       "      <td>289.58</td>\n",
       "      <td>0.0</td>\n",
       "      <td>0.0</td>\n",
       "      <td>90</td>\n",
       "      <td>Clouds</td>\n",
       "      <td>overcast clouds</td>\n",
       "    </tr>\n",
       "    <tr>\n",
       "      <th>2012-10-02 12:00:00</th>\n",
       "      <td>Working Day</td>\n",
       "      <td>20</td>\n",
       "      <td>66</td>\n",
       "      <td>3</td>\n",
       "      <td>329</td>\n",
       "      <td>5</td>\n",
       "      <td>5</td>\n",
       "      <td>290.13</td>\n",
       "      <td>0.0</td>\n",
       "      <td>0.0</td>\n",
       "      <td>90</td>\n",
       "      <td>Clouds</td>\n",
       "      <td>overcast clouds</td>\n",
       "    </tr>\n",
       "    <tr>\n",
       "      <th>2012-10-02 13:00:00</th>\n",
       "      <td>Working Day</td>\n",
       "      <td>281</td>\n",
       "      <td>65</td>\n",
       "      <td>3</td>\n",
       "      <td>329</td>\n",
       "      <td>7</td>\n",
       "      <td>7</td>\n",
       "      <td>291.14</td>\n",
       "      <td>0.0</td>\n",
       "      <td>0.0</td>\n",
       "      <td>75</td>\n",
       "      <td>Clouds</td>\n",
       "      <td>broken clouds</td>\n",
       "    </tr>\n",
       "  </tbody>\n",
       "</table>\n",
       "</div>"
      ],
      "text/plain": [
       "                      is_holiday  air_pollution_index  humidity  wind_speed  \\\n",
       "date_time                                                                     \n",
       "2012-10-02 09:00:00  Working Day                  121        89           2   \n",
       "2012-10-02 10:00:00  Working Day                  178        67           3   \n",
       "2012-10-02 11:00:00  Working Day                  113        66           3   \n",
       "2012-10-02 12:00:00  Working Day                   20        66           3   \n",
       "2012-10-02 13:00:00  Working Day                  281        65           3   \n",
       "\n",
       "                     wind_direction  visibility_in_miles  dew_point  \\\n",
       "date_time                                                             \n",
       "2012-10-02 09:00:00             329                    1          1   \n",
       "2012-10-02 10:00:00             330                    1          1   \n",
       "2012-10-02 11:00:00             329                    2          2   \n",
       "2012-10-02 12:00:00             329                    5          5   \n",
       "2012-10-02 13:00:00             329                    7          7   \n",
       "\n",
       "                     temperature  rain_p_h  snow_p_h  clouds_all weather_type  \\\n",
       "date_time                                                                       \n",
       "2012-10-02 09:00:00       288.28       0.0       0.0          40       Clouds   \n",
       "2012-10-02 10:00:00       289.36       0.0       0.0          75       Clouds   \n",
       "2012-10-02 11:00:00       289.58       0.0       0.0          90       Clouds   \n",
       "2012-10-02 12:00:00       290.13       0.0       0.0          90       Clouds   \n",
       "2012-10-02 13:00:00       291.14       0.0       0.0          75       Clouds   \n",
       "\n",
       "                    weather_description  \n",
       "date_time                                \n",
       "2012-10-02 09:00:00    scattered clouds  \n",
       "2012-10-02 10:00:00       broken clouds  \n",
       "2012-10-02 11:00:00     overcast clouds  \n",
       "2012-10-02 12:00:00     overcast clouds  \n",
       "2012-10-02 13:00:00       broken clouds  "
      ]
     },
     "execution_count": 7,
     "metadata": {},
     "output_type": "execute_result"
    }
   ],
   "source": [
    "Train.head()"
   ]
  },
  {
   "cell_type": "code",
   "execution_count": 8,
   "metadata": {},
   "outputs": [
    {
     "data": {
      "text/html": [
       "<div>\n",
       "<style scoped>\n",
       "    .dataframe tbody tr th:only-of-type {\n",
       "        vertical-align: middle;\n",
       "    }\n",
       "\n",
       "    .dataframe tbody tr th {\n",
       "        vertical-align: top;\n",
       "    }\n",
       "\n",
       "    .dataframe thead th {\n",
       "        text-align: right;\n",
       "    }\n",
       "</style>\n",
       "<table border=\"1\" class=\"dataframe\">\n",
       "  <thead>\n",
       "    <tr style=\"text-align: right;\">\n",
       "      <th></th>\n",
       "      <th>traffic_volume</th>\n",
       "    </tr>\n",
       "    <tr>\n",
       "      <th>date_time</th>\n",
       "      <th></th>\n",
       "    </tr>\n",
       "  </thead>\n",
       "  <tbody>\n",
       "    <tr>\n",
       "      <th>2012-10-02 09:00:00</th>\n",
       "      <td>5545</td>\n",
       "    </tr>\n",
       "    <tr>\n",
       "      <th>2012-10-02 10:00:00</th>\n",
       "      <td>4516</td>\n",
       "    </tr>\n",
       "    <tr>\n",
       "      <th>2012-10-02 11:00:00</th>\n",
       "      <td>4767</td>\n",
       "    </tr>\n",
       "    <tr>\n",
       "      <th>2012-10-02 12:00:00</th>\n",
       "      <td>5026</td>\n",
       "    </tr>\n",
       "    <tr>\n",
       "      <th>2012-10-02 13:00:00</th>\n",
       "      <td>4918</td>\n",
       "    </tr>\n",
       "  </tbody>\n",
       "</table>\n",
       "</div>"
      ],
      "text/plain": [
       "                     traffic_volume\n",
       "date_time                          \n",
       "2012-10-02 09:00:00            5545\n",
       "2012-10-02 10:00:00            4516\n",
       "2012-10-02 11:00:00            4767\n",
       "2012-10-02 12:00:00            5026\n",
       "2012-10-02 13:00:00            4918"
      ]
     },
     "execution_count": 8,
     "metadata": {},
     "output_type": "execute_result"
    }
   ],
   "source": [
    "target.head()"
   ]
  },
  {
   "cell_type": "code",
   "execution_count": 9,
   "metadata": {},
   "outputs": [
    {
     "data": {
      "text/plain": [
       "is_holiday               12\n",
       "air_pollution_index     290\n",
       "humidity                 88\n",
       "wind_speed               17\n",
       "wind_direction          361\n",
       "visibility_in_miles       9\n",
       "dew_point                 9\n",
       "temperature            5611\n",
       "rain_p_h                353\n",
       "snow_p_h                 12\n",
       "clouds_all               60\n",
       "weather_type             11\n",
       "weather_description      38\n",
       "dtype: int64"
      ]
     },
     "execution_count": 9,
     "metadata": {},
     "output_type": "execute_result"
    }
   ],
   "source": [
    "Train.nunique()"
   ]
  },
  {
   "cell_type": "code",
   "execution_count": 10,
   "metadata": {},
   "outputs": [],
   "source": [
    "from sklearn_pandas import DataFrameMapper\n",
    "from sklearn.preprocessing import LabelEncoder, StandardScaler, MinMaxScaler\n",
    "column_tuples = [\n",
    "    ('is_holiday', LabelEncoder()),\n",
    "    (['air_pollution_index'], StandardScaler()),\n",
    "    (['humidity'], StandardScaler()),\n",
    "    (['wind_speed'], StandardScaler()),\n",
    "    (['wind_direction'], StandardScaler()),\n",
    "    (['visibility_in_miles'], StandardScaler()),\n",
    "    (['dew_point'], StandardScaler()),\n",
    "    (['temperature'], StandardScaler()),\n",
    "    (['rain_p_h'], StandardScaler()), \n",
    "    (['snow_p_h'], StandardScaler()),\n",
    "    (['clouds_all'], StandardScaler()),\n",
    "    ('weather_type', LabelEncoder()),\n",
    "    ('weather_description', LabelEncoder())\n",
    "#     (['Year'], StandardScaler()),\n",
    "#     (['Month'], MinMaxScaler()),\n",
    "#     (['Day'], MinMaxScaler()),\n",
    "#     (['hour'], MinMaxScaler())\n",
    "]\n",
    "mapper = DataFrameMapper(column_tuples,df_out=True)"
   ]
  },
  {
   "cell_type": "code",
   "execution_count": 11,
   "metadata": {},
   "outputs": [],
   "source": [
    "mapper_fit = mapper.fit(Train)\n",
    "Train = mapper_fit.transform(Train)"
   ]
  },
  {
   "cell_type": "code",
   "execution_count": 12,
   "metadata": {},
   "outputs": [
    {
     "data": {
      "text/html": [
       "<div>\n",
       "<style scoped>\n",
       "    .dataframe tbody tr th:only-of-type {\n",
       "        vertical-align: middle;\n",
       "    }\n",
       "\n",
       "    .dataframe tbody tr th {\n",
       "        vertical-align: top;\n",
       "    }\n",
       "\n",
       "    .dataframe thead th {\n",
       "        text-align: right;\n",
       "    }\n",
       "</style>\n",
       "<table border=\"1\" class=\"dataframe\">\n",
       "  <thead>\n",
       "    <tr style=\"text-align: right;\">\n",
       "      <th></th>\n",
       "      <th>is_holiday</th>\n",
       "      <th>air_pollution_index</th>\n",
       "      <th>humidity</th>\n",
       "      <th>wind_speed</th>\n",
       "      <th>wind_direction</th>\n",
       "      <th>visibility_in_miles</th>\n",
       "      <th>dew_point</th>\n",
       "      <th>temperature</th>\n",
       "      <th>rain_p_h</th>\n",
       "      <th>snow_p_h</th>\n",
       "      <th>clouds_all</th>\n",
       "      <th>weather_type</th>\n",
       "      <th>weather_description</th>\n",
       "    </tr>\n",
       "    <tr>\n",
       "      <th>date_time</th>\n",
       "      <th></th>\n",
       "      <th></th>\n",
       "      <th></th>\n",
       "      <th></th>\n",
       "      <th></th>\n",
       "      <th></th>\n",
       "      <th></th>\n",
       "      <th></th>\n",
       "      <th></th>\n",
       "      <th></th>\n",
       "      <th></th>\n",
       "      <th></th>\n",
       "      <th></th>\n",
       "    </tr>\n",
       "  </thead>\n",
       "  <tbody>\n",
       "    <tr>\n",
       "      <th>2012-10-02 09:00:00</th>\n",
       "      <td>11</td>\n",
       "      <td>-0.404153</td>\n",
       "      <td>1.055720</td>\n",
       "      <td>-0.670405</td>\n",
       "      <td>1.297362</td>\n",
       "      <td>-1.552441</td>\n",
       "      <td>-1.552441</td>\n",
       "      <td>0.612030</td>\n",
       "      <td>-0.008384</td>\n",
       "      <td>-0.032546</td>\n",
       "      <td>-0.269063</td>\n",
       "      <td>1</td>\n",
       "      <td>24</td>\n",
       "    </tr>\n",
       "    <tr>\n",
       "      <th>2012-10-02 10:00:00</th>\n",
       "      <td>11</td>\n",
       "      <td>0.276572</td>\n",
       "      <td>-0.249763</td>\n",
       "      <td>-0.183967</td>\n",
       "      <td>1.307378</td>\n",
       "      <td>-1.552441</td>\n",
       "      <td>-1.552441</td>\n",
       "      <td>0.692536</td>\n",
       "      <td>-0.008384</td>\n",
       "      <td>-0.032546</td>\n",
       "      <td>0.631348</td>\n",
       "      <td>1</td>\n",
       "      <td>2</td>\n",
       "    </tr>\n",
       "    <tr>\n",
       "      <th>2012-10-02 11:00:00</th>\n",
       "      <td>11</td>\n",
       "      <td>-0.499693</td>\n",
       "      <td>-0.309103</td>\n",
       "      <td>-0.183967</td>\n",
       "      <td>1.297362</td>\n",
       "      <td>-1.163334</td>\n",
       "      <td>-1.163334</td>\n",
       "      <td>0.708936</td>\n",
       "      <td>-0.008384</td>\n",
       "      <td>-0.032546</td>\n",
       "      <td>1.017238</td>\n",
       "      <td>1</td>\n",
       "      <td>19</td>\n",
       "    </tr>\n",
       "    <tr>\n",
       "      <th>2012-10-02 12:00:00</th>\n",
       "      <td>11</td>\n",
       "      <td>-1.610349</td>\n",
       "      <td>-0.309103</td>\n",
       "      <td>-0.183967</td>\n",
       "      <td>1.297362</td>\n",
       "      <td>0.003989</td>\n",
       "      <td>0.003989</td>\n",
       "      <td>0.749934</td>\n",
       "      <td>-0.008384</td>\n",
       "      <td>-0.032546</td>\n",
       "      <td>1.017238</td>\n",
       "      <td>1</td>\n",
       "      <td>19</td>\n",
       "    </tr>\n",
       "    <tr>\n",
       "      <th>2012-10-02 13:00:00</th>\n",
       "      <td>11</td>\n",
       "      <td>1.506654</td>\n",
       "      <td>-0.368443</td>\n",
       "      <td>-0.183967</td>\n",
       "      <td>1.297362</td>\n",
       "      <td>0.782204</td>\n",
       "      <td>0.782204</td>\n",
       "      <td>0.825223</td>\n",
       "      <td>-0.008384</td>\n",
       "      <td>-0.032546</td>\n",
       "      <td>0.631348</td>\n",
       "      <td>1</td>\n",
       "      <td>2</td>\n",
       "    </tr>\n",
       "  </tbody>\n",
       "</table>\n",
       "</div>"
      ],
      "text/plain": [
       "                     is_holiday  air_pollution_index  humidity  wind_speed  \\\n",
       "date_time                                                                    \n",
       "2012-10-02 09:00:00          11            -0.404153  1.055720   -0.670405   \n",
       "2012-10-02 10:00:00          11             0.276572 -0.249763   -0.183967   \n",
       "2012-10-02 11:00:00          11            -0.499693 -0.309103   -0.183967   \n",
       "2012-10-02 12:00:00          11            -1.610349 -0.309103   -0.183967   \n",
       "2012-10-02 13:00:00          11             1.506654 -0.368443   -0.183967   \n",
       "\n",
       "                     wind_direction  visibility_in_miles  dew_point  \\\n",
       "date_time                                                             \n",
       "2012-10-02 09:00:00        1.297362            -1.552441  -1.552441   \n",
       "2012-10-02 10:00:00        1.307378            -1.552441  -1.552441   \n",
       "2012-10-02 11:00:00        1.297362            -1.163334  -1.163334   \n",
       "2012-10-02 12:00:00        1.297362             0.003989   0.003989   \n",
       "2012-10-02 13:00:00        1.297362             0.782204   0.782204   \n",
       "\n",
       "                     temperature  rain_p_h  snow_p_h  clouds_all  \\\n",
       "date_time                                                          \n",
       "2012-10-02 09:00:00     0.612030 -0.008384 -0.032546   -0.269063   \n",
       "2012-10-02 10:00:00     0.692536 -0.008384 -0.032546    0.631348   \n",
       "2012-10-02 11:00:00     0.708936 -0.008384 -0.032546    1.017238   \n",
       "2012-10-02 12:00:00     0.749934 -0.008384 -0.032546    1.017238   \n",
       "2012-10-02 13:00:00     0.825223 -0.008384 -0.032546    0.631348   \n",
       "\n",
       "                     weather_type  weather_description  \n",
       "date_time                                               \n",
       "2012-10-02 09:00:00             1                   24  \n",
       "2012-10-02 10:00:00             1                    2  \n",
       "2012-10-02 11:00:00             1                   19  \n",
       "2012-10-02 12:00:00             1                   19  \n",
       "2012-10-02 13:00:00             1                    2  "
      ]
     },
     "execution_count": 12,
     "metadata": {},
     "output_type": "execute_result"
    }
   ],
   "source": [
    "Train.head()"
   ]
  },
  {
   "cell_type": "code",
   "execution_count": null,
   "metadata": {},
   "outputs": [],
   "source": []
  },
  {
   "cell_type": "code",
   "execution_count": 13,
   "metadata": {},
   "outputs": [
    {
     "data": {
      "text/plain": [
       "pandas.core.frame.DataFrame"
      ]
     },
     "execution_count": 13,
     "metadata": {},
     "output_type": "execute_result"
    }
   ],
   "source": [
    "type(Train)"
   ]
  },
  {
   "cell_type": "code",
   "execution_count": 14,
   "metadata": {},
   "outputs": [],
   "source": [
    "import matplotlib.pyplot as plt\n",
    "fig_size = plt.rcParams[\"figure.figsize\"]\n",
    "fig_size[0] = 20\n",
    "fig_size[1] = 5\n",
    "plt.rcParams[\"figure.figsize\"] = fig_size"
   ]
  },
  {
   "cell_type": "code",
   "execution_count": 15,
   "metadata": {},
   "outputs": [
    {
     "data": {
      "text/plain": [
       "[<matplotlib.lines.Line2D at 0x23df5e48d68>]"
      ]
     },
     "execution_count": 15,
     "metadata": {},
     "output_type": "execute_result"
    },
    {
     "data": {
      "image/png": "[encoded data removed]",
      "text/plain": [
       "<Figure size 432x288 with 1 Axes>"
      ]
     },
     "metadata": {},
     "output_type": "display_data"
    }
   ],
   "source": [
    "plt.plot(target[:200])"
   ]
  },
  {
   "cell_type": "code",
   "execution_count": 16,
   "metadata": {},
   "outputs": [],
   "source": [
    "from statsmodels.tsa.stattools import adfuller\n",
    "def test_stationarity(timeseries, window = 12, cutoff = 0.01):\n",
    "\n",
    "    #Determing rolling statistics\n",
    "    rolmean = timeseries.rolling(window).mean()\n",
    "    rolstd = timeseries.rolling(window).std()\n",
    "\n",
    "    #Plot rolling statistics:\n",
    "    fig = plt.figure(figsize=(12, 8))\n",
    "    orig = plt.plot(timeseries, color='blue',label='Original')\n",
    "    mean = plt.plot(rolmean, color='red', label='Rolling Mean')\n",
    "    std = plt.plot(rolstd, color='black', label = 'Rolling Std')\n",
    "    plt.legend(loc='best')\n",
    "    plt.title('Rolling Mean & Standard Deviation')\n",
    "    plt.show()\n",
    "    \n",
    "    #Perform Dickey-Fuller test:\n",
    "    print('Results of Dickey-Fuller Test:')\n",
    "    dftest = adfuller(timeseries, autolag='AIC', maxlag = 20 )\n",
    "    dfoutput = pd.Series(dftest[0:4], index=['Test Statistic','p-value','#Lags Used','Number of Observations Used'])\n",
    "    for key,value in dftest[4].items():\n",
    "        dfoutput['Critical Value (%s)'%key] = value\n",
    "    pvalue = dftest[1]\n",
    "    if pvalue < cutoff:\n",
    "        print('p-value = %.4f. The series is likely stationary.' % pvalue)\n",
    "    else:\n",
    "        print('p-value = %.4f. The series is likely non-stationary.' % pvalue)\n",
    "    \n",
    "    print(dfoutput)"
   ]
  },
  {
   "cell_type": "code",
   "execution_count": 17,
   "metadata": {},
   "outputs": [],
   "source": [
    "first_diff = target.traffic_volume - target.traffic_volume.shift(1)\n",
    "first_diff = first_diff.dropna(inplace = False)\n",
    "# test_stationarity(first_diff, window = 12)"
   ]
  },
  {
   "cell_type": "code",
   "execution_count": 18,
   "metadata": {},
   "outputs": [
    {
     "data": {
      "image/png": "[encoded data removed]",
      "text/plain": [
       "<Figure size 864x576 with 2 Axes>"
      ]
     },
     "metadata": {},
     "output_type": "display_data"
    }
   ],
   "source": [
    "import statsmodels.api as sm\n",
    "\n",
    "fig = plt.figure(figsize=(12,8))\n",
    "ax1 = fig.add_subplot(211)\n",
    "fig = sm.graphics.tsa.plot_acf(target.traffic_volume, lags=100, ax=ax1) # \n",
    "ax2 = fig.add_subplot(212)\n",
    "fig = sm.graphics.tsa.plot_pacf(target.traffic_volume, lags=100, ax=ax2)# , lags=40"
   ]
  },
  {
   "cell_type": "code",
   "execution_count": 19,
   "metadata": {},
   "outputs": [
    {
     "data": {
      "image/png": "[encoded data removed]",
      "text/plain": [
       "<Figure size 864x576 with 2 Axes>"
      ]
     },
     "metadata": {},
     "output_type": "display_data"
    }
   ],
   "source": [
    "fig = plt.figure(figsize=(12,8))\n",
    "ax1 = fig.add_subplot(211)\n",
    "fig = sm.graphics.tsa.plot_acf(first_diff, lags=100, ax=ax1)\n",
    "ax2 = fig.add_subplot(212)\n",
    "fig = sm.graphics.tsa.plot_pacf(first_diff, lags=100, ax=ax2)"
   ]
  },
  {
   "cell_type": "code",
   "execution_count": 20,
   "metadata": {},
   "outputs": [
    {
     "data": {
      "text/html": [
       "<div>\n",
       "<style scoped>\n",
       "    .dataframe tbody tr th:only-of-type {\n",
       "        vertical-align: middle;\n",
       "    }\n",
       "\n",
       "    .dataframe tbody tr th {\n",
       "        vertical-align: top;\n",
       "    }\n",
       "\n",
       "    .dataframe thead th {\n",
       "        text-align: right;\n",
       "    }\n",
       "</style>\n",
       "<table border=\"1\" class=\"dataframe\">\n",
       "  <thead>\n",
       "    <tr style=\"text-align: right;\">\n",
       "      <th></th>\n",
       "      <th>is_holiday</th>\n",
       "      <th>air_pollution_index</th>\n",
       "      <th>humidity</th>\n",
       "      <th>wind_speed</th>\n",
       "      <th>wind_direction</th>\n",
       "      <th>visibility_in_miles</th>\n",
       "      <th>dew_point</th>\n",
       "      <th>temperature</th>\n",
       "      <th>rain_p_h</th>\n",
       "      <th>snow_p_h</th>\n",
       "      <th>clouds_all</th>\n",
       "      <th>weather_type</th>\n",
       "      <th>weather_description</th>\n",
       "    </tr>\n",
       "    <tr>\n",
       "      <th>date_time</th>\n",
       "      <th></th>\n",
       "      <th></th>\n",
       "      <th></th>\n",
       "      <th></th>\n",
       "      <th></th>\n",
       "      <th></th>\n",
       "      <th></th>\n",
       "      <th></th>\n",
       "      <th></th>\n",
       "      <th></th>\n",
       "      <th></th>\n",
       "      <th></th>\n",
       "      <th></th>\n",
       "    </tr>\n",
       "  </thead>\n",
       "  <tbody>\n",
       "    <tr>\n",
       "      <th>2012-10-02 09:00:00</th>\n",
       "      <td>11</td>\n",
       "      <td>-0.404153</td>\n",
       "      <td>1.055720</td>\n",
       "      <td>-0.670405</td>\n",
       "      <td>1.297362</td>\n",
       "      <td>-1.552441</td>\n",
       "      <td>-1.552441</td>\n",
       "      <td>0.612030</td>\n",
       "      <td>-0.008384</td>\n",
       "      <td>-0.032546</td>\n",
       "      <td>-0.269063</td>\n",
       "      <td>1</td>\n",
       "      <td>24</td>\n",
       "    </tr>\n",
       "    <tr>\n",
       "      <th>2012-10-02 10:00:00</th>\n",
       "      <td>11</td>\n",
       "      <td>0.276572</td>\n",
       "      <td>-0.249763</td>\n",
       "      <td>-0.183967</td>\n",
       "      <td>1.307378</td>\n",
       "      <td>-1.552441</td>\n",
       "      <td>-1.552441</td>\n",
       "      <td>0.692536</td>\n",
       "      <td>-0.008384</td>\n",
       "      <td>-0.032546</td>\n",
       "      <td>0.631348</td>\n",
       "      <td>1</td>\n",
       "      <td>2</td>\n",
       "    </tr>\n",
       "    <tr>\n",
       "      <th>2012-10-02 11:00:00</th>\n",
       "      <td>11</td>\n",
       "      <td>-0.499693</td>\n",
       "      <td>-0.309103</td>\n",
       "      <td>-0.183967</td>\n",
       "      <td>1.297362</td>\n",
       "      <td>-1.163334</td>\n",
       "      <td>-1.163334</td>\n",
       "      <td>0.708936</td>\n",
       "      <td>-0.008384</td>\n",
       "      <td>-0.032546</td>\n",
       "      <td>1.017238</td>\n",
       "      <td>1</td>\n",
       "      <td>19</td>\n",
       "    </tr>\n",
       "    <tr>\n",
       "      <th>2012-10-02 12:00:00</th>\n",
       "      <td>11</td>\n",
       "      <td>-1.610349</td>\n",
       "      <td>-0.309103</td>\n",
       "      <td>-0.183967</td>\n",
       "      <td>1.297362</td>\n",
       "      <td>0.003989</td>\n",
       "      <td>0.003989</td>\n",
       "      <td>0.749934</td>\n",
       "      <td>-0.008384</td>\n",
       "      <td>-0.032546</td>\n",
       "      <td>1.017238</td>\n",
       "      <td>1</td>\n",
       "      <td>19</td>\n",
       "    </tr>\n",
       "    <tr>\n",
       "      <th>2012-10-02 13:00:00</th>\n",
       "      <td>11</td>\n",
       "      <td>1.506654</td>\n",
       "      <td>-0.368443</td>\n",
       "      <td>-0.183967</td>\n",
       "      <td>1.297362</td>\n",
       "      <td>0.782204</td>\n",
       "      <td>0.782204</td>\n",
       "      <td>0.825223</td>\n",
       "      <td>-0.008384</td>\n",
       "      <td>-0.032546</td>\n",
       "      <td>0.631348</td>\n",
       "      <td>1</td>\n",
       "      <td>2</td>\n",
       "    </tr>\n",
       "  </tbody>\n",
       "</table>\n",
       "</div>"
      ],
      "text/plain": [
       "                     is_holiday  air_pollution_index  humidity  wind_speed  \\\n",
       "date_time                                                                    \n",
       "2012-10-02 09:00:00          11            -0.404153  1.055720   -0.670405   \n",
       "2012-10-02 10:00:00          11             0.276572 -0.249763   -0.183967   \n",
       "2012-10-02 11:00:00          11            -0.499693 -0.309103   -0.183967   \n",
       "2012-10-02 12:00:00          11            -1.610349 -0.309103   -0.183967   \n",
       "2012-10-02 13:00:00          11             1.506654 -0.368443   -0.183967   \n",
       "\n",
       "                     wind_direction  visibility_in_miles  dew_point  \\\n",
       "date_time                                                             \n",
       "2012-10-02 09:00:00        1.297362            -1.552441  -1.552441   \n",
       "2012-10-02 10:00:00        1.307378            -1.552441  -1.552441   \n",
       "2012-10-02 11:00:00        1.297362            -1.163334  -1.163334   \n",
       "2012-10-02 12:00:00        1.297362             0.003989   0.003989   \n",
       "2012-10-02 13:00:00        1.297362             0.782204   0.782204   \n",
       "\n",
       "                     temperature  rain_p_h  snow_p_h  clouds_all  \\\n",
       "date_time                                                          \n",
       "2012-10-02 09:00:00     0.612030 -0.008384 -0.032546   -0.269063   \n",
       "2012-10-02 10:00:00     0.692536 -0.008384 -0.032546    0.631348   \n",
       "2012-10-02 11:00:00     0.708936 -0.008384 -0.032546    1.017238   \n",
       "2012-10-02 12:00:00     0.749934 -0.008384 -0.032546    1.017238   \n",
       "2012-10-02 13:00:00     0.825223 -0.008384 -0.032546    0.631348   \n",
       "\n",
       "                     weather_type  weather_description  \n",
       "date_time                                               \n",
       "2012-10-02 09:00:00             1                   24  \n",
       "2012-10-02 10:00:00             1                    2  \n",
       "2012-10-02 11:00:00             1                   19  \n",
       "2012-10-02 12:00:00             1                   19  \n",
       "2012-10-02 13:00:00             1                    2  "
      ]
     },
     "execution_count": 20,
     "metadata": {},
     "output_type": "execute_result"
    }
   ],
   "source": [
    "Train[:200].head()"
   ]
  },
  {
   "cell_type": "code",
   "execution_count": 21,
   "metadata": {},
   "outputs": [],
   "source": [
    "from statsmodels.tsa.statespace import sarimax"
   ]
  },
  {
   "cell_type": "code",
   "execution_count": 22,
   "metadata": {},
   "outputs": [
    {
     "name": "stdout",
     "output_type": "stream",
     "text": [
      "Examples of parameter combinations for Seasonal ARIMA...\n",
      "SARIMAX: (0, 0, 1) x (0, 0, 1, 24)\n",
      "SARIMAX: (0, 0, 1) x (0, 1, 0, 24)\n",
      "SARIMAX: (0, 1, 0) x (0, 1, 1, 24)\n",
      "SARIMAX: (0, 1, 0) x (1, 0, 0, 24)\n"
     ]
    }
   ],
   "source": [
    "import itertools\n",
    "# Define the d and q parameters to take any value between 0 and 1\n",
    "q = d = range(0, 2)\n",
    "# Define the p parameters to take any value between 0 and 3\n",
    "p = range(0, 3)\n",
    "\n",
    "# Generate all different combinations of p, q and q triplets\n",
    "pdq = list(itertools.product(p, d, q))\n",
    "\n",
    "# Generate all different combinations of seasonal p, q and q triplets\n",
    "seasonal_pdq = [(x[0], x[1], x[2], 24) for x in pdq]\n",
    "\n",
    "print('Examples of parameter combinations for Seasonal ARIMA...')\n",
    "print('SARIMAX: {} x {}'.format(pdq[1], seasonal_pdq[1]))\n",
    "print('SARIMAX: {} x {}'.format(pdq[1], seasonal_pdq[2]))\n",
    "print('SARIMAX: {} x {}'.format(pdq[2], seasonal_pdq[3]))\n",
    "print('SARIMAX: {} x {}'.format(pdq[2], seasonal_pdq[4]))"
   ]
  },
  {
   "cell_type": "code",
   "execution_count": 23,
   "metadata": {},
   "outputs": [
    {
     "name": "stdout",
     "output_type": "stream",
     "text": [
      "SARIMAX(2, 1, 1)x(2, 1, 1, 24) - AIC:6915.5392240300655\r"
     ]
    }
   ],
   "source": [
    "warnings.filterwarnings(\"ignore\") # specify to ignore warning messages\n",
    "\n",
    "AIC = []\n",
    "SARIMAX_model = []\n",
    "for param in pdq:\n",
    "    for param_seasonal in seasonal_pdq:\n",
    "        try:\n",
    "            mod = sm.tsa.statespace.SARIMAX(endog = target[:500],\n",
    "                                            exog = pd.DataFrame(Train[:500]),\n",
    "                                            order=param,\n",
    "                                            seasonal_order=param_seasonal,\n",
    "                                            enforce_stationarity=False,\n",
    "                                            enforce_invertibility=False)\n",
    "            results = mod.fit()\n",
    "            print('SARIMAX{}x{} - AIC:{}'.format(param, param_seasonal, results.aic), end='\\r')\n",
    "            AIC.append(results.aic)\n",
    "            SARIMAX_model.append([param, param_seasonal])\n",
    "        except:\n",
    "            continue"
   ]
  },
  {
   "cell_type": "code",
   "execution_count": 24,
   "metadata": {},
   "outputs": [
    {
     "name": "stdout",
     "output_type": "stream",
     "text": [
      "The smallest AIC is 6915.539224030065 for model SARIMAX(2, 1, 1)x(2, 1, 1, 24)\n"
     ]
    }
   ],
   "source": [
    "print('The smallest AIC is {} for model SARIMAX{}x{}'.format(min(AIC), SARIMAX_model[AIC.index(min(AIC))][0],SARIMAX_model[AIC.index(min(AIC))][1]))"
   ]
  },
  {
   "cell_type": "code",
   "execution_count": null,
   "metadata": {},
   "outputs": [],
   "source": [
    "# The smallest AIC is 6915.539224030065 for model SARIMAX(2, 1, 1)x(2, 1, 1, 24)"
   ]
  },
  {
   "cell_type": "code",
   "execution_count": 25,
   "metadata": {},
   "outputs": [],
   "source": [
    "model = sarimax.SARIMAX(endog=pd.DataFrame(target[:500]),exog=pd.DataFrame(Train[:500]),order=(2,1,1),seasonal_order=(2,1,1,24),\n",
    "                       enforce_stationarity = False,\n",
    "                       enforce_invertibility= False)"
   ]
  },
  {
   "cell_type": "code",
   "execution_count": 26,
   "metadata": {},
   "outputs": [],
   "source": [
    "fit_model = model.fit()"
   ]
  },
  {
   "cell_type": "code",
   "execution_count": 27,
   "metadata": {},
   "outputs": [],
   "source": [
    "forec = fit_model.forecast(steps=100,exog=pd.DataFrame(Train[500:600]))"
   ]
  },
  {
   "cell_type": "code",
   "execution_count": 28,
   "metadata": {
    "scrolled": true
   },
   "outputs": [],
   "source": [
    "orig = pd.Series(list(target[:600][\"traffic_volume\"]))"
   ]
  },
  {
   "cell_type": "code",
   "execution_count": 29,
   "metadata": {},
   "outputs": [
    {
     "data": {
      "text/plain": [
       "Text(0.5,1,'Comaprison of flow Between Original Forecast Seasonal Arima Model (SARIMAX)')"
      ]
     },
     "execution_count": 29,
     "metadata": {},
     "output_type": "execute_result"
    },
    {
     "data": {
      "image/png": "[encoded data removed]",
      "text/plain": [
       "<Figure size 1080x360 with 1 Axes>"
      ]
     },
     "metadata": {},
     "output_type": "display_data"
    }
   ],
   "source": [
    "plt.figure(figsize=(15,5))\n",
    "plt.plot(orig,label=\"Original Data\")\n",
    "plt.plot(forec,label=\"Forecast Flow\")\n",
    "plt.legend(loc='upper left')\n",
    "plt.title(\"Comaprison of flow Between Original Forecast Seasonal Arima Model (SARIMAX)\")"
   ]
  },
  {
   "cell_type": "code",
   "execution_count": null,
   "metadata": {},
   "outputs": [],
   "source": []
  },
  {
   "cell_type": "code",
   "execution_count": null,
   "metadata": {},
   "outputs": [],
   "source": []
  },
  {
   "cell_type": "code",
   "execution_count": null,
   "metadata": {},
   "outputs": [],
   "source": []
  },
  {
   "cell_type": "code",
   "execution_count": null,
   "metadata": {},
   "outputs": [],
   "source": []
  },
  {
   "cell_type": "code",
   "execution_count": null,
   "metadata": {},
   "outputs": [],
   "source": []
  },
  {
   "cell_type": "code",
   "execution_count": null,
   "metadata": {},
   "outputs": [],
   "source": []
  },
  {
   "cell_type": "code",
   "execution_count": null,
   "metadata": {},
   "outputs": [],
   "source": []
  },
  {
   "cell_type": "code",
   "execution_count": null,
   "metadata": {},
   "outputs": [],
   "source": [
    "import pickle"
   ]
  },
  {
   "cell_type": "code",
   "execution_count": null,
   "metadata": {},
   "outputs": [],
   "source": [
    "pickle.dump(mapper_fit, open('fitted_mapper.pkl', 'wb'))"
   ]
  },
  {
   "cell_type": "code",
   "execution_count": null,
   "metadata": {},
   "outputs": [],
   "source": [
    "def preProcessingScript(dataFrame):\n",
    "    dataFrame['is_holiday'] = np.where(dataFrame['is_holiday'] == \"None\", \"Working Day\", dataFrame['is_holiday'])\n",
    "    dateTimeSplits = dataFrame[\"date_time\"].str.split(\" \")\n",
    "    dataFrame[\"Year\"] = pd.DataFrame([ item[0].split(\"-\")[0] for item in dateTimeSplits ])\n",
    "    dataFrame[\"Month\"] = pd.DataFrame([ item[0].split(\"-\")[1] for item in dateTimeSplits ])\n",
    "    dataFrame[\"Day\"] = pd.DataFrame([ item[0].split(\"-\")[2] for item in dateTimeSplits ])\n",
    "    dataFrame[\"hour\"] = pd.DataFrame([ item[1].split(\":\")[0] for item in dateTimeSplits ])\n",
    "    dataFrame.drop(columns =[\"date_time\"], inplace = True)\n",
    "    mapper_fit = pickle.load(open('fitted_mapper.pkl', 'rb'))\n",
    "    return mapper_fit.transform(dataFrame)"
   ]
  },
  {
   "cell_type": "code",
   "execution_count": null,
   "metadata": {},
   "outputs": [],
   "source": [
    "Train.shape"
   ]
  },
  {
   "cell_type": "code",
   "execution_count": null,
   "metadata": {},
   "outputs": [],
   "source": []
  },
  {
   "cell_type": "code",
   "execution_count": null,
   "metadata": {},
   "outputs": [],
   "source": []
  },
  {
   "cell_type": "code",
   "execution_count": null,
   "metadata": {},
   "outputs": [],
   "source": []
  },
  {
   "cell_type": "markdown",
   "metadata": {},
   "source": [
    "# Model"
   ]
  },
  {
   "cell_type": "code",
   "execution_count": null,
   "metadata": {},
   "outputs": [],
   "source": [
    "from tensorflow.keras.models import Sequential\n",
    "from tensorflow.keras.layers import Dense\n",
    "from tensorflow.keras.wrappers.scikit_learn import KerasRegressor\n",
    "from sklearn.model_selection import KFold, cross_val_score\n",
    "def baseline_model():\n",
    "    model = Sequential()\n",
    "    model.add(Dense(13, input_dim=17, kernel_initializer='normal', activation='relu'))\n",
    "    model.add(Dense(6, kernel_initializer='normal', activation='relu'))\n",
    "    model.add(Dense(1, kernel_initializer='normal'))\n",
    "    model.compile(loss='mean_squared_error', optimizer='adam')\n",
    "    return model"
   ]
  },
  {
   "cell_type": "code",
   "execution_count": null,
   "metadata": {},
   "outputs": [],
   "source": [
    "model = baseline_model()"
   ]
  },
  {
   "cell_type": "code",
   "execution_count": null,
   "metadata": {},
   "outputs": [],
   "source": [
    "model\n"
   ]
  },
  {
   "cell_type": "code",
   "execution_count": null,
   "metadata": {},
   "outputs": [],
   "source": [
    "dataForT = Train[:10000]\n",
    "targetForT = target[:10000]"
   ]
  },
  {
   "cell_type": "code",
   "execution_count": null,
   "metadata": {},
   "outputs": [],
   "source": [
    "seed = 7\n",
    "np.random.seed(seed)\n",
    "# evaluate model with standardized dataset\n",
    "estimator = KerasRegressor(build_fn=baseline_model, epochs=100, batch_size=25, verbose=0)"
   ]
  },
  {
   "cell_type": "code",
   "execution_count": null,
   "metadata": {},
   "outputs": [],
   "source": [
    "kfold = KFold(n_splits=10, random_state=seed)\n",
    "results = cross_val_score(estimator, dataForT, targetForT, cv=kfold)\n",
    "print(\"Results: %.2f (%.2f) MSE\" % (results.mean(), results.std()))"
   ]
  },
  {
   "cell_type": "code",
   "execution_count": null,
   "metadata": {},
   "outputs": [],
   "source": [
    "predict(processedTestData[:10])"
   ]
  },
  {
   "cell_type": "code",
   "execution_count": null,
   "metadata": {},
   "outputs": [],
   "source": [
    "Test = pd.read_csv(\"DataSets/Test.csv\")"
   ]
  },
  {
   "cell_type": "code",
   "execution_count": null,
   "metadata": {},
   "outputs": [],
   "source": [
    "processedTestData = preProcessingScript(Test)"
   ]
  },
  {
   "cell_type": "code",
   "execution_count": null,
   "metadata": {},
   "outputs": [],
   "source": [
    "processedTestData.head()"
   ]
  },
  {
   "cell_type": "code",
   "execution_count": null,
   "metadata": {},
   "outputs": [],
   "source": []
  },
  {
   "cell_type": "code",
   "execution_count": null,
   "metadata": {},
   "outputs": [],
   "source": []
  },
  {
   "cell_type": "code",
   "execution_count": null,
   "metadata": {},
   "outputs": [],
   "source": []
  },
  {
   "cell_type": "code",
   "execution_count": null,
   "metadata": {},
   "outputs": [],
   "source": []
  },
  {
   "cell_type": "markdown",
   "metadata": {},
   "source": [
    "# LSTM"
   ]
  },
  {
   "cell_type": "code",
   "execution_count": null,
   "metadata": {},
   "outputs": [],
   "source": [
    "def build_LSTM_model():\n",
    "    model = Sequential()\n",
    "    layers = {'input': 1, 'hidden1': 64, 'hidden2': 256, 'hidden3': 100, 'output': 1}\n",
    "\n",
    "    model.add(LSTM(\n",
    "            input_length=sequence_length - 1,\n",
    "            input_dim=layers['input'],\n",
    "            output_dim=layers['hidden1'],\n",
    "            return_sequences=True))\n",
    "    model.add(Dropout(0.2))\n",
    "\n",
    "    model.add(LSTM(\n",
    "            layers['hidden2'],\n",
    "            return_sequences=True))\n",
    "    model.add(Dropout(0.2))\n",
    "\n",
    "    model.add(LSTM(\n",
    "            layers['hidden3'],\n",
    "            return_sequences=False))\n",
    "    model.add(Dropout(0.2))\n",
    "\n",
    "    model.add(Dense(\n",
    "            output_dim=layers['output']))\n",
    "    model.add(Activation(\"linear\"))\n",
    "\n",
    "    start = time.time()\n",
    "    model.compile(loss=\"mse\", optimizer=\"rmsprop\")\n",
    "    print (\"Compilation Time : \"+ str(time.time() - start))\n",
    "    return model"
   ]
  },
  {
   "cell_type": "code",
   "execution_count": null,
   "metadata": {},
   "outputs": [],
   "source": [
    "def run_network(model=None, data=None):\n",
    "    global_start_time = time.time()\n",
    "\n",
    "    if data is None:\n",
    "        print('Loading data... ')\n",
    "        # train on first 700 samples and test on next 300 samples (has anomaly)\n",
    "        X_train, y_train, X_test, y_test = get_split_prep_data(0, 700, 500, 1000)\n",
    "    else:\n",
    "        X_train, y_train, X_test, y_test = data\n",
    "\n",
    "    print('\\nData Loaded. Compiling...\\n')\n",
    "\n",
    "    if model is None:\n",
    "        model = build_model()\n",
    "\n",
    "    try:\n",
    "        print(\"Training...\")\n",
    "        model.fit(\n",
    "                X_train, y_train,\n",
    "                batch_size=batch_size, nb_epoch=epochs, validation_split=0.05)\n",
    "        print(\"Predicting...\")\n",
    "        predicted = model.predict(X_test)\n",
    "        print(\"Reshaping predicted\")\n",
    "        predicted = np.reshape(predicted, (predicted.size,))\n",
    "    except KeyboardInterrupt:\n",
    "        print(\"prediction exception\")\n",
    "        print ('Training duration (s) : '+ str(time.time() - global_start_time))\n",
    "        return model, y_test, 0\n",
    "\n",
    "    try:\n",
    "        plt.figure(1)\n",
    "        plt.subplot(311)\n",
    "        plt.title(\"Actual Test Signal w/Anomalies\")\n",
    "        plt.plot(y_test[:len(y_test)], 'b')\n",
    "        plt.subplot(312)\n",
    "        plt.title(\"Predicted Signal\")\n",
    "        plt.plot(predicted[:len(y_test)], 'g')\n",
    "        plt.subplot(313)\n",
    "        plt.title(\"Squared Error\")\n",
    "        mse = ((y_test - predicted) ** 2)\n",
    "        plt.plot(mse, 'r')\n",
    "        plt.show()\n",
    "    except Exception as e:\n",
    "        print(\"plotting exception\")\n",
    "        print(str(e))\n",
    "    print ('Training duration (s) : '+ str(time.time() - global_start_time))\n",
    "\n",
    "    return model, y_test, predicted"
   ]
  },
  {
   "cell_type": "code",
   "execution_count": null,
   "metadata": {},
   "outputs": [],
   "source": []
  }
 ],
 "metadata": {
  "kernelspec": {
   "display_name": "Python 3",
   "language": "python",
   "name": "python3"
  },
  "language_info": {
   "codemirror_mode": {
    "name": "ipython",
    "version": 3
   },
   "file_extension": ".py",
   "mimetype": "text/x-python",
   "name": "python",
   "nbconvert_exporter": "python",
   "pygments_lexer": "ipython3",
   "version": "3.7.0"
  }
 },
 "nbformat": 4,
 "nbformat_minor": 2
}
